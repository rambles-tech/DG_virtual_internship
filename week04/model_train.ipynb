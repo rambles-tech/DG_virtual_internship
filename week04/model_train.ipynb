{
 "cells": [
  {
   "cell_type": "code",
   "execution_count": 1,
   "metadata": {},
   "outputs": [
    {
     "name": "stdout",
     "output_type": "stream",
     "text": [
      "Train data accuracy: 1.0\n",
      "Test data accuracy: 0.9473684210526315\n"
     ]
    }
   ],
   "source": [
    "import pandas as pd\n",
    "import numpy as np\n",
    "from sklearn.datasets import load_iris\n",
    "from sklearn.metrics import accuracy_score\n",
    "from sklearn.model_selection import train_test_split\n",
    "from sklearn.tree import DecisionTreeClassifier"
   ]
  },
  {
   "cell_type": "code",
   "execution_count": null,
   "metadata": {},
   "outputs": [],
   "source": [
    "# load in the iris dataset\n",
    "data = load_iris()\n",
    "\n",
    "# seperate predictive and target features\n",
    "X = data.data\n",
    "y = data.target\n",
    "\n",
    "# create train and test sets\n",
    "X_train, X_test, y_train, y_test = train_test_split(X,y, random_state = 50, test_size = 0.25)"
   ]
  },
  {
   "cell_type": "code",
   "execution_count": null,
   "metadata": {},
   "outputs": [],
   "source": [
    "# The dataset categories (y) 'setosa', 'versicolor', 'virginica'\n",
    "#ris Data (red=setosa,green=versicolor,blue=virginica)\n",
    "# the dataset variables (x): he dataset contains a set of 150 records under five attributes - sepal length, sepal width, petal length, petal width and species."
   ]
  },
  {
   "cell_type": "code",
   "execution_count": null,
   "metadata": {},
   "outputs": [],
   "source": [
    "# create Decision Tree Classifier model\n",
    "model = DecisionTreeClassifier()\n",
    "model.fit(X_train,y_train)\n",
    "\n",
    "# evaluate training metrics\n",
    "y_pred = model.predict(X_test)\n",
    "print(\"Train data accuracy:\",accuracy_score(y_true = y_train, y_pred=model.predict(X_train)))\n",
    "\n",
    "# evaluate the test set\n",
    "print(\"Test data accuracy:\",accuracy_score(y_true = y_test, y_pred=y_pred))"
   ]
  },
  {
   "cell_type": "code",
   "execution_count": null,
   "metadata": {},
   "outputs": [],
   "source": [
    "# serialize the model for usage\n",
    "import pickle\n",
    "pickle.dump(model, open(\"model.pkl\",\"wb\"))"
   ]
  },
  {
   "attachments": {},
   "cell_type": "markdown",
   "metadata": {},
   "source": [
    "Create the flask app"
   ]
  },
  {
   "cell_type": "code",
   "execution_count": 10,
   "metadata": {},
   "outputs": [],
   "source": [
    "def ValuePredictor(to_predict_list):\n",
    "    to_predict = np.array(to_predict_list).reshape(1,4)\n",
    "    loaded_model = pickle.load(open(\"model.pkl\",\"rb\"))\n",
    "    result = loaded_model.predict(to_predict)\n",
    "    return result[0]"
   ]
  },
  {
   "cell_type": "code",
   "execution_count": 17,
   "metadata": {},
   "outputs": [
    {
     "data": {
      "text/plain": [
       "0"
      ]
     },
     "execution_count": 17,
     "metadata": {},
     "output_type": "execute_result"
    }
   ],
   "source": [
    "ValuePredictor([5.4, 3.4, 1.7, 0.2])"
   ]
  }
 ],
 "metadata": {
  "kernelspec": {
   "display_name": "glacier",
   "language": "python",
   "name": "python3"
  },
  "language_info": {
   "codemirror_mode": {
    "name": "ipython",
    "version": 3
   },
   "file_extension": ".py",
   "mimetype": "text/x-python",
   "name": "python",
   "nbconvert_exporter": "python",
   "pygments_lexer": "ipython3",
   "version": "3.11.1 (v3.11.1:a7a450f84a, Dec  6 2022, 15:24:06) [Clang 13.0.0 (clang-1300.0.29.30)]"
  },
  "orig_nbformat": 4,
  "vscode": {
   "interpreter": {
    "hash": "afe6c77cb2afc7cc844176a99f479786d5e509189aaa837c0b8d5303f4b10d79"
   }
  }
 },
 "nbformat": 4,
 "nbformat_minor": 2
}
