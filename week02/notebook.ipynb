{
 "cells": [
  {
   "cell_type": "markdown",
   "metadata": {},
   "source": [
    "## The Client\n",
    "\n",
    "XYZ is a private firm in US. Due to remarkable growth in the Cab Industry in last few years and multiple key players in the market, it is planning for an investment in Cab industry and as per their Go-to-Market(G2M) strategy they want to understand the market before taking final decision.\n",
    "\n",
    "## Project delivery:\n",
    "\n",
    "You have been provided with multiple data sets that contains information on 2 cab companies. Each file (data set) provided represents different aspects of the customer profile. XYZ is interested in using your actionable insights to help them identify the right company to make their investment.\n",
    "\n",
    "The outcome of your delivery will be a presentation to XYZ’s Executive team. This presentation will be judged based on the visuals provided, the quality of your analysis and the value of your recommendations and insights. \n",
    "\n",
    "## Data Set:\n",
    "\n",
    "You have been provided 4 individual data sets. Time period of data is from 31/01/2016 to 31/12/2018.\n",
    "\n",
    "Below are the list of datasets which are provided for the analysis:\n",
    "\n",
    "Cab_Data.csv – this file includes details of transaction for 2 cab companies\n",
    "\n",
    "Customer_ID.csv – this is a mapping table that contains a unique identifier which links the customer’s demographic details\n",
    "\n",
    "Transaction_ID.csv – this is a mapping table that contains transaction to customer mapping and payment mode\n",
    "\n",
    "City.csv – this file contains list of US cities, their population and number of cab users\n",
    "\n",
    "You should fully investigate and understand each data set.\n",
    "\n",
    "- Review the Source Documentation  \n",
    "- Understand the field names and data types  \n",
    "- Identify relationships across the files  \n",
    "- Field/feature transformations  \n",
    "- Determine which files should be joined versus which ones should be appended  \n",
    "- Create master data and explain the relationship  \n",
    "- Identify and remove duplicates  \n",
    "- Perform other analysis like NA value and outlier detection  \n",
    " \n",
    "\n",
    "Whatever and how many slides you prepare(Be creative and come up with meaningful insight):\n",
    "\n",
    "The idea is to create a hypothesis, engage with the data, think critically, and use various analytical approaches to produce unique insights.\n",
    "\n",
    "You are not limited to only utilizing the data you have been provided.\n",
    "\n",
    "We encourage you to find third party data sets which correspond to the overall theme and geographical properties of the data provided.  For Example: you can leverage US holiday data/ weather data\n",
    "\n",
    "Also, do research on overall cab industry in US and try to relate that with the trend in data\n",
    "\n",
    "## Analysis  \n",
    "\n",
    "Create multiple hypothesis and investigate:\n",
    "\n",
    "**You will need to generate 5-7 hypothesis initially to investigate as some will not prove what you are expecting.**  \n",
    "\n",
    "For Example: “Is there any seasonality in number of customers using the cab service?”\n",
    "\n",
    "### Areas to investigate:\n",
    "\n",
    "- Which company has maximum cab users at a particular time period?  \n",
    "- Does margin proportionally increase with increase in number of customers?  \n",
    "- What are the attributes of these customer segments?  \n",
    "\n",
    "**Although not required, we encourage you to document the process and findings**  \n",
    "- What is the business problem?  \n",
    "- What are the properties of the data provided (data intake report)  \n",
    "- What steps did you take in order to create an applicable data set?  \n",
    "- How did you prepare and perform your analysis?  \n",
    "- What type of analysis did you perform?  \n",
    "- Why did you choose to use certain analytical techniques over others?  \n",
    "- What were the results?  \n",
    "- Prepare a presentation that summarizes your analysis and recommendations and identify which company is performing better and is a better investment opportunity for XYZ.\n",
    "\n",
    "#### Deliverables of Week 2 are:\n",
    "\n",
    "1. EDA Notebook (ipynb file)\n",
    "\n",
    "2. Data Intake report (pdf file)\n",
    "\n",
    "3. EDA recommendation and hypothesis results ( It should be in the ipynb notebook and you don't need not to present separate document) \n",
    "\n",
    "You can use either EDA or Modeling and EDA both to deliver the result.\n",
    "\n",
    "Remember, there are no wrong answers as long as the data supports them.\n",
    "\n",
    "Note: Sample presentation of previous batch intern, for your reference is added"
   ]
  },
  {
   "cell_type": "code",
   "execution_count": 35,
   "metadata": {},
   "outputs": [],
   "source": [
    "import matplotlib.pyplot as plt\n",
    "import numpy as np\n",
    "import pandas as pd"
   ]
  },
  {
   "cell_type": "markdown",
   "metadata": {},
   "source": [
    "### Data"
   ]
  },
  {
   "cell_type": "markdown",
   "metadata": {},
   "source": [
    "#### Data Fields\n",
    "    \n",
    "<img src=\"ERD.png\" alt=\"Drawing\" style=\"width: 500px;\"/>"
   ]
  },
  {
   "cell_type": "code",
   "execution_count": 36,
   "metadata": {},
   "outputs": [],
   "source": [
    "# Load in data\n",
    "transaction_data = pd.read_csv('data/Transaction_ID.csv')\n",
    "city_data = pd.read_csv('data/City.csv', thousands=',') # thousands=',' is used to remove the comma in the population column\n",
    "cab_data = pd.read_csv('data/Cab_Data.csv')\n",
    "customer_data = pd.read_csv('data/Customer_ID.csv')\n"
   ]
  },
  {
   "cell_type": "markdown",
   "metadata": {},
   "source": [
    "#### Null Values: None"
   ]
  },
  {
   "cell_type": "code",
   "execution_count": 37,
   "metadata": {},
   "outputs": [
    {
     "data": {
      "text/plain": [
       "Transaction ID    0\n",
       "Customer ID       0\n",
       "Payment_Mode      0\n",
       "dtype: int64"
      ]
     },
     "execution_count": 37,
     "metadata": {},
     "output_type": "execute_result"
    }
   ],
   "source": [
    "transaction_data.isna().sum()"
   ]
  },
  {
   "cell_type": "code",
   "execution_count": 38,
   "metadata": {},
   "outputs": [
    {
     "data": {
      "text/plain": [
       "City          0\n",
       "Population    0\n",
       "Users         0\n",
       "dtype: int64"
      ]
     },
     "execution_count": 38,
     "metadata": {},
     "output_type": "execute_result"
    }
   ],
   "source": [
    "city_data.isna().sum()"
   ]
  },
  {
   "cell_type": "code",
   "execution_count": 39,
   "metadata": {},
   "outputs": [
    {
     "data": {
      "text/plain": [
       "Transaction ID    0\n",
       "Date of Travel    0\n",
       "Company           0\n",
       "City              0\n",
       "KM Travelled      0\n",
       "Price Charged     0\n",
       "Cost of Trip      0\n",
       "dtype: int64"
      ]
     },
     "execution_count": 39,
     "metadata": {},
     "output_type": "execute_result"
    }
   ],
   "source": [
    "cab_data.isna().sum()"
   ]
  },
  {
   "cell_type": "code",
   "execution_count": 40,
   "metadata": {},
   "outputs": [
    {
     "data": {
      "text/plain": [
       "Customer ID           0\n",
       "Gender                0\n",
       "Age                   0\n",
       "Income (USD/Month)    0\n",
       "dtype: int64"
      ]
     },
     "execution_count": 40,
     "metadata": {},
     "output_type": "execute_result"
    }
   ],
   "source": [
    "customer_data.isna().sum()"
   ]
  },
  {
   "cell_type": "markdown",
   "metadata": {},
   "source": [
    "#### Transaction_ID.csv"
   ]
  },
  {
   "cell_type": "code",
   "execution_count": 41,
   "metadata": {},
   "outputs": [
    {
     "data": {
      "text/html": [
       "<div>\n",
       "<style scoped>\n",
       "    .dataframe tbody tr th:only-of-type {\n",
       "        vertical-align: middle;\n",
       "    }\n",
       "\n",
       "    .dataframe tbody tr th {\n",
       "        vertical-align: top;\n",
       "    }\n",
       "\n",
       "    .dataframe thead th {\n",
       "        text-align: right;\n",
       "    }\n",
       "</style>\n",
       "<table border=\"1\" class=\"dataframe\">\n",
       "  <thead>\n",
       "    <tr style=\"text-align: right;\">\n",
       "      <th></th>\n",
       "      <th>Transaction ID</th>\n",
       "      <th>Customer ID</th>\n",
       "      <th>Payment_Mode</th>\n",
       "    </tr>\n",
       "  </thead>\n",
       "  <tbody>\n",
       "    <tr>\n",
       "      <th>0</th>\n",
       "      <td>10000011</td>\n",
       "      <td>29290</td>\n",
       "      <td>Card</td>\n",
       "    </tr>\n",
       "    <tr>\n",
       "      <th>1</th>\n",
       "      <td>10000012</td>\n",
       "      <td>27703</td>\n",
       "      <td>Card</td>\n",
       "    </tr>\n",
       "    <tr>\n",
       "      <th>2</th>\n",
       "      <td>10000013</td>\n",
       "      <td>28712</td>\n",
       "      <td>Cash</td>\n",
       "    </tr>\n",
       "    <tr>\n",
       "      <th>3</th>\n",
       "      <td>10000014</td>\n",
       "      <td>28020</td>\n",
       "      <td>Cash</td>\n",
       "    </tr>\n",
       "    <tr>\n",
       "      <th>4</th>\n",
       "      <td>10000015</td>\n",
       "      <td>27182</td>\n",
       "      <td>Card</td>\n",
       "    </tr>\n",
       "  </tbody>\n",
       "</table>\n",
       "</div>"
      ],
      "text/plain": [
       "   Transaction ID  Customer ID Payment_Mode\n",
       "0        10000011        29290         Card\n",
       "1        10000012        27703         Card\n",
       "2        10000013        28712         Cash\n",
       "3        10000014        28020         Cash\n",
       "4        10000015        27182         Card"
      ]
     },
     "execution_count": 41,
     "metadata": {},
     "output_type": "execute_result"
    }
   ],
   "source": [
    "transaction_data.head()"
   ]
  },
  {
   "cell_type": "code",
   "execution_count": 42,
   "metadata": {},
   "outputs": [],
   "source": [
    "# fix column names for easier reference\n",
    "transaction_data.rename({'Transaction ID': 'transaction_id', 'Customer ID': 'customer_id', 'Payment_Mode': 'payment_mode'}, axis='columns', inplace=True)"
   ]
  },
  {
   "cell_type": "code",
   "execution_count": 43,
   "metadata": {},
   "outputs": [
    {
     "name": "stdout",
     "output_type": "stream",
     "text": [
      "<class 'pandas.core.frame.DataFrame'>\n",
      "RangeIndex: 440098 entries, 0 to 440097\n",
      "Data columns (total 3 columns):\n",
      " #   Column          Non-Null Count   Dtype \n",
      "---  ------          --------------   ----- \n",
      " 0   transaction_id  440098 non-null  int64 \n",
      " 1   customer_id     440098 non-null  int64 \n",
      " 2   payment_mode    440098 non-null  object\n",
      "dtypes: int64(2), object(1)\n",
      "memory usage: 10.1+ MB\n"
     ]
    }
   ],
   "source": [
    "transaction_data.info()"
   ]
  },
  {
   "cell_type": "markdown",
   "metadata": {},
   "source": [
    "***Observations:***  \n",
    "transaction and customer ID columns are categorical - switch to object"
   ]
  },
  {
   "cell_type": "code",
   "execution_count": 44,
   "metadata": {},
   "outputs": [],
   "source": [
    "transaction_data = transaction_data.astype({\"transaction_id\": object, \"customer_id\": object})"
   ]
  },
  {
   "cell_type": "code",
   "execution_count": 45,
   "metadata": {},
   "outputs": [
    {
     "data": {
      "text/plain": [
       "Card    59.984594\n",
       "Cash    40.015406\n",
       "Name: payment_mode, dtype: float64"
      ]
     },
     "execution_count": 45,
     "metadata": {},
     "output_type": "execute_result"
    }
   ],
   "source": [
    "transaction_data.payment_mode.value_counts(normalize=True)*100"
   ]
  },
  {
   "cell_type": "code",
   "execution_count": 46,
   "metadata": {},
   "outputs": [
    {
     "data": {
      "text/plain": [
       "494     0.000123\n",
       "2939    0.000120\n",
       "1070    0.000116\n",
       "2766    0.000116\n",
       "1628    0.000114\n",
       "Name: customer_id, dtype: float64"
      ]
     },
     "execution_count": 46,
     "metadata": {},
     "output_type": "execute_result"
    }
   ],
   "source": [
    "transaction_data.customer_id.value_counts(normalize=True).sort_values(ascending=False).head()"
   ]
  },
  {
   "cell_type": "markdown",
   "metadata": {},
   "source": [
    "No anomolous users."
   ]
  },
  {
   "cell_type": "markdown",
   "metadata": {},
   "source": [
    "#### city_data.csv"
   ]
  },
  {
   "cell_type": "code",
   "execution_count": 47,
   "metadata": {},
   "outputs": [
    {
     "data": {
      "text/html": [
       "<div>\n",
       "<style scoped>\n",
       "    .dataframe tbody tr th:only-of-type {\n",
       "        vertical-align: middle;\n",
       "    }\n",
       "\n",
       "    .dataframe tbody tr th {\n",
       "        vertical-align: top;\n",
       "    }\n",
       "\n",
       "    .dataframe thead th {\n",
       "        text-align: right;\n",
       "    }\n",
       "</style>\n",
       "<table border=\"1\" class=\"dataframe\">\n",
       "  <thead>\n",
       "    <tr style=\"text-align: right;\">\n",
       "      <th></th>\n",
       "      <th>City</th>\n",
       "      <th>Population</th>\n",
       "      <th>Users</th>\n",
       "    </tr>\n",
       "  </thead>\n",
       "  <tbody>\n",
       "    <tr>\n",
       "      <th>0</th>\n",
       "      <td>NEW YORK NY</td>\n",
       "      <td>8405837</td>\n",
       "      <td>302149</td>\n",
       "    </tr>\n",
       "    <tr>\n",
       "      <th>1</th>\n",
       "      <td>CHICAGO IL</td>\n",
       "      <td>1955130</td>\n",
       "      <td>164468</td>\n",
       "    </tr>\n",
       "    <tr>\n",
       "      <th>2</th>\n",
       "      <td>LOS ANGELES CA</td>\n",
       "      <td>1595037</td>\n",
       "      <td>144132</td>\n",
       "    </tr>\n",
       "    <tr>\n",
       "      <th>3</th>\n",
       "      <td>MIAMI FL</td>\n",
       "      <td>1339155</td>\n",
       "      <td>17675</td>\n",
       "    </tr>\n",
       "    <tr>\n",
       "      <th>4</th>\n",
       "      <td>SILICON VALLEY</td>\n",
       "      <td>1177609</td>\n",
       "      <td>27247</td>\n",
       "    </tr>\n",
       "  </tbody>\n",
       "</table>\n",
       "</div>"
      ],
      "text/plain": [
       "             City  Population   Users\n",
       "0     NEW YORK NY     8405837  302149\n",
       "1      CHICAGO IL     1955130  164468\n",
       "2  LOS ANGELES CA     1595037  144132\n",
       "3        MIAMI FL     1339155   17675\n",
       "4  SILICON VALLEY     1177609   27247"
      ]
     },
     "execution_count": 47,
     "metadata": {},
     "output_type": "execute_result"
    }
   ],
   "source": [
    "city_data.head()"
   ]
  },
  {
   "cell_type": "code",
   "execution_count": 48,
   "metadata": {},
   "outputs": [],
   "source": [
    "# fix column names for easier reference\n",
    "city_data.rename({'City': 'city', 'Population': 'population', 'Users': 'users'}, axis='columns', inplace=True)"
   ]
  },
  {
   "cell_type": "code",
   "execution_count": 49,
   "metadata": {},
   "outputs": [
    {
     "name": "stdout",
     "output_type": "stream",
     "text": [
      "<class 'pandas.core.frame.DataFrame'>\n",
      "RangeIndex: 20 entries, 0 to 19\n",
      "Data columns (total 3 columns):\n",
      " #   Column      Non-Null Count  Dtype \n",
      "---  ------      --------------  ----- \n",
      " 0   city        20 non-null     object\n",
      " 1   population  20 non-null     int64 \n",
      " 2   users       20 non-null     int64 \n",
      "dtypes: int64(2), object(1)\n",
      "memory usage: 608.0+ bytes\n"
     ]
    }
   ],
   "source": [
    "city_data.info()"
   ]
  },
  {
   "cell_type": "code",
   "execution_count": 50,
   "metadata": {},
   "outputs": [
    {
     "data": {
      "text/html": [
       "<div>\n",
       "<style scoped>\n",
       "    .dataframe tbody tr th:only-of-type {\n",
       "        vertical-align: middle;\n",
       "    }\n",
       "\n",
       "    .dataframe tbody tr th {\n",
       "        vertical-align: top;\n",
       "    }\n",
       "\n",
       "    .dataframe thead th {\n",
       "        text-align: right;\n",
       "    }\n",
       "</style>\n",
       "<table border=\"1\" class=\"dataframe\">\n",
       "  <thead>\n",
       "    <tr style=\"text-align: right;\">\n",
       "      <th></th>\n",
       "      <th>city</th>\n",
       "      <th>population</th>\n",
       "      <th>users</th>\n",
       "    </tr>\n",
       "  </thead>\n",
       "  <tbody>\n",
       "    <tr>\n",
       "      <th>0</th>\n",
       "      <td>NEW YORK NY</td>\n",
       "      <td>8405837</td>\n",
       "      <td>302149</td>\n",
       "    </tr>\n",
       "    <tr>\n",
       "      <th>1</th>\n",
       "      <td>CHICAGO IL</td>\n",
       "      <td>1955130</td>\n",
       "      <td>164468</td>\n",
       "    </tr>\n",
       "    <tr>\n",
       "      <th>2</th>\n",
       "      <td>LOS ANGELES CA</td>\n",
       "      <td>1595037</td>\n",
       "      <td>144132</td>\n",
       "    </tr>\n",
       "    <tr>\n",
       "      <th>3</th>\n",
       "      <td>MIAMI FL</td>\n",
       "      <td>1339155</td>\n",
       "      <td>17675</td>\n",
       "    </tr>\n",
       "    <tr>\n",
       "      <th>4</th>\n",
       "      <td>SILICON VALLEY</td>\n",
       "      <td>1177609</td>\n",
       "      <td>27247</td>\n",
       "    </tr>\n",
       "  </tbody>\n",
       "</table>\n",
       "</div>"
      ],
      "text/plain": [
       "             city  population   users\n",
       "0     NEW YORK NY     8405837  302149\n",
       "1      CHICAGO IL     1955130  164468\n",
       "2  LOS ANGELES CA     1595037  144132\n",
       "3        MIAMI FL     1339155   17675\n",
       "4  SILICON VALLEY     1177609   27247"
      ]
     },
     "execution_count": 50,
     "metadata": {},
     "output_type": "execute_result"
    }
   ],
   "source": [
    "city_data.sort_values(by='population', ascending=False).head()"
   ]
  },
  {
   "cell_type": "code",
   "execution_count": null,
   "metadata": {},
   "outputs": [],
   "source": []
  },
  {
   "cell_type": "code",
   "execution_count": 51,
   "metadata": {},
   "outputs": [
    {
     "data": {
      "text/plain": [
       "''"
      ]
     },
     "execution_count": 51,
     "metadata": {},
     "output_type": "execute_result"
    },
    {
     "data": {
      "image/png": "[encoded data removed]",
      "text/plain": [
       "<Figure size 432x288 with 1 Axes>"
      ]
     },
     "metadata": {
      "needs_background": "light"
     },
     "output_type": "display_data"
    }
   ],
   "source": [
    "fig, ax = plt.subplots()\n",
    "ax.scatter(x='population', y='users', data = city_data)\n",
    "\n",
    "# label NEW YORK NY\n",
    "city = \"NYC\"\n",
    "x = city_data.population[city_data.city=='NEW YORK NY']\n",
    "y = city_data.users[city_data.city=='NEW YORK NY']\n",
    "ax.annotate(city, (x, y), xytext=(x-800000, y-40000), \n",
    "    arrowprops = dict(  arrowstyle=\"->\",\n",
    "                        connectionstyle=\"angle3,angleA=0,angleB=-90\"))\n",
    "\n",
    "# label San francisco\n",
    "city = \"San Francisco\"\n",
    "x = city_data.population[city_data.city=='SAN FRANCISCO CA']\n",
    "y = city_data.users[city_data.city=='SAN FRANCISCO CA']\n",
    "\n",
    "ax.annotate(city, (x, y), xytext=(x+40000, y+40000), \n",
    "    arrowprops = dict(  arrowstyle=\"->\",\n",
    "                        connectionstyle=\"angle3,angleA=0,angleB=-90\"))\n",
    ";"
   ]
  },
  {
   "cell_type": "markdown",
   "metadata": {},
   "source": [
    "New York City has the highest population and user count, but San Francisco has one of the lowest populations with the 2nd greatest user count."
   ]
  },
  {
   "cell_type": "markdown",
   "metadata": {},
   "source": [
    "#### cab_data.csv"
   ]
  },
  {
   "cell_type": "code",
   "execution_count": 52,
   "metadata": {},
   "outputs": [
    {
     "data": {
      "text/html": [
       "<div>\n",
       "<style scoped>\n",
       "    .dataframe tbody tr th:only-of-type {\n",
       "        vertical-align: middle;\n",
       "    }\n",
       "\n",
       "    .dataframe tbody tr th {\n",
       "        vertical-align: top;\n",
       "    }\n",
       "\n",
       "    .dataframe thead th {\n",
       "        text-align: right;\n",
       "    }\n",
       "</style>\n",
       "<table border=\"1\" class=\"dataframe\">\n",
       "  <thead>\n",
       "    <tr style=\"text-align: right;\">\n",
       "      <th></th>\n",
       "      <th>Transaction ID</th>\n",
       "      <th>Date of Travel</th>\n",
       "      <th>Company</th>\n",
       "      <th>City</th>\n",
       "      <th>KM Travelled</th>\n",
       "      <th>Price Charged</th>\n",
       "      <th>Cost of Trip</th>\n",
       "    </tr>\n",
       "  </thead>\n",
       "  <tbody>\n",
       "    <tr>\n",
       "      <th>0</th>\n",
       "      <td>10000011</td>\n",
       "      <td>42377</td>\n",
       "      <td>Pink Cab</td>\n",
       "      <td>ATLANTA GA</td>\n",
       "      <td>30.45</td>\n",
       "      <td>370.95</td>\n",
       "      <td>313.635</td>\n",
       "    </tr>\n",
       "    <tr>\n",
       "      <th>1</th>\n",
       "      <td>10000012</td>\n",
       "      <td>42375</td>\n",
       "      <td>Pink Cab</td>\n",
       "      <td>ATLANTA GA</td>\n",
       "      <td>28.62</td>\n",
       "      <td>358.52</td>\n",
       "      <td>334.854</td>\n",
       "    </tr>\n",
       "    <tr>\n",
       "      <th>2</th>\n",
       "      <td>10000013</td>\n",
       "      <td>42371</td>\n",
       "      <td>Pink Cab</td>\n",
       "      <td>ATLANTA GA</td>\n",
       "      <td>9.04</td>\n",
       "      <td>125.20</td>\n",
       "      <td>97.632</td>\n",
       "    </tr>\n",
       "    <tr>\n",
       "      <th>3</th>\n",
       "      <td>10000014</td>\n",
       "      <td>42376</td>\n",
       "      <td>Pink Cab</td>\n",
       "      <td>ATLANTA GA</td>\n",
       "      <td>33.17</td>\n",
       "      <td>377.40</td>\n",
       "      <td>351.602</td>\n",
       "    </tr>\n",
       "    <tr>\n",
       "      <th>4</th>\n",
       "      <td>10000015</td>\n",
       "      <td>42372</td>\n",
       "      <td>Pink Cab</td>\n",
       "      <td>ATLANTA GA</td>\n",
       "      <td>8.73</td>\n",
       "      <td>114.62</td>\n",
       "      <td>97.776</td>\n",
       "    </tr>\n",
       "  </tbody>\n",
       "</table>\n",
       "</div>"
      ],
      "text/plain": [
       "   Transaction ID  Date of Travel   Company        City  KM Travelled  \\\n",
       "0        10000011           42377  Pink Cab  ATLANTA GA         30.45   \n",
       "1        10000012           42375  Pink Cab  ATLANTA GA         28.62   \n",
       "2        10000013           42371  Pink Cab  ATLANTA GA          9.04   \n",
       "3        10000014           42376  Pink Cab  ATLANTA GA         33.17   \n",
       "4        10000015           42372  Pink Cab  ATLANTA GA          8.73   \n",
       "\n",
       "   Price Charged  Cost of Trip  \n",
       "0         370.95       313.635  \n",
       "1         358.52       334.854  \n",
       "2         125.20        97.632  \n",
       "3         377.40       351.602  \n",
       "4         114.62        97.776  "
      ]
     },
     "execution_count": 52,
     "metadata": {},
     "output_type": "execute_result"
    }
   ],
   "source": [
    "cab_data.head()"
   ]
  },
  {
   "cell_type": "code",
   "execution_count": 53,
   "metadata": {},
   "outputs": [],
   "source": [
    "# fix column names for easier reference\n",
    "cab_data.rename({'Transaction ID': 'transaction_id', 'Date of Travel': 'date', 'Company': 'company', \n",
    "    'City': 'city', 'KM Travelled': 'km_traveled', 'Price Charged': 'income', 'Cost of Trip': 'expense'}, axis='columns', inplace=True)"
   ]
  },
  {
   "cell_type": "code",
   "execution_count": 54,
   "metadata": {},
   "outputs": [
    {
     "name": "stdout",
     "output_type": "stream",
     "text": [
      "<class 'pandas.core.frame.DataFrame'>\n",
      "RangeIndex: 359392 entries, 0 to 359391\n",
      "Data columns (total 7 columns):\n",
      " #   Column          Non-Null Count   Dtype  \n",
      "---  ------          --------------   -----  \n",
      " 0   transaction_id  359392 non-null  int64  \n",
      " 1   date            359392 non-null  int64  \n",
      " 2   company         359392 non-null  object \n",
      " 3   city            359392 non-null  object \n",
      " 4   km_traveled     359392 non-null  float64\n",
      " 5   income          359392 non-null  float64\n",
      " 6   expense         359392 non-null  float64\n",
      "dtypes: float64(3), int64(2), object(2)\n",
      "memory usage: 19.2+ MB\n"
     ]
    }
   ],
   "source": [
    "cab_data.info()"
   ]
  },
  {
   "cell_type": "markdown",
   "metadata": {},
   "source": [
    "***Observations:***  \n",
    "- transaction ID should be object\n",
    "- date columns are not date type; need to be converted form excel format\n",
    "- There is a price and cost column.  My **assumption** is that price is income, cost is expense.  Need to create a profit column (rename columns appropriately) "
   ]
  },
  {
   "cell_type": "code",
   "execution_count": 55,
   "metadata": {},
   "outputs": [],
   "source": [
    "cab_data = cab_data.astype({\"transaction_id\": object})"
   ]
  },
  {
   "cell_type": "code",
   "execution_count": 56,
   "metadata": {},
   "outputs": [],
   "source": [
    "cab_data['profit'] = cab_data.income - cab_data.expense"
   ]
  },
  {
   "cell_type": "code",
   "execution_count": 57,
   "metadata": {},
   "outputs": [],
   "source": [
    "import xlrd\n",
    "\n",
    "# utility function that extracts date from excel date format\n",
    "def read_date(date):\n",
    "    return xlrd.xldate.xldate_as_datetime(date, 0)\n",
    "\n",
    "cab_data['date']= pd.to_datetime(cab_data['date'].apply(read_date), errors='coerce')\n"
   ]
  },
  {
   "cell_type": "markdown",
   "metadata": {},
   "source": [
    "##### Check the date range"
   ]
  },
  {
   "cell_type": "code",
   "execution_count": 58,
   "metadata": {},
   "outputs": [
    {
     "data": {
      "text/plain": [
       "Timestamp('2016-01-02 00:00:00')"
      ]
     },
     "execution_count": 58,
     "metadata": {},
     "output_type": "execute_result"
    }
   ],
   "source": [
    "cab_data['date'].min()"
   ]
  },
  {
   "cell_type": "code",
   "execution_count": 59,
   "metadata": {},
   "outputs": [
    {
     "data": {
      "text/plain": [
       "Timestamp('2018-12-31 00:00:00')"
      ]
     },
     "execution_count": 59,
     "metadata": {},
     "output_type": "execute_result"
    }
   ],
   "source": [
    "cab_data['date'].max()"
   ]
  },
  {
   "cell_type": "markdown",
   "metadata": {},
   "source": [
    "##### Analyze the money"
   ]
  },
  {
   "cell_type": "code",
   "execution_count": 70,
   "metadata": {},
   "outputs": [
    {
     "data": {
      "text/html": [
       "<div>\n",
       "<style scoped>\n",
       "    .dataframe tbody tr th:only-of-type {\n",
       "        vertical-align: middle;\n",
       "    }\n",
       "\n",
       "    .dataframe tbody tr th {\n",
       "        vertical-align: top;\n",
       "    }\n",
       "\n",
       "    .dataframe thead th {\n",
       "        text-align: right;\n",
       "    }\n",
       "</style>\n",
       "<table border=\"1\" class=\"dataframe\">\n",
       "  <thead>\n",
       "    <tr style=\"text-align: right;\">\n",
       "      <th></th>\n",
       "      <th>km_traveled</th>\n",
       "      <th>income</th>\n",
       "      <th>expense</th>\n",
       "      <th>profit</th>\n",
       "    </tr>\n",
       "  </thead>\n",
       "  <tbody>\n",
       "    <tr>\n",
       "      <th>km_traveled</th>\n",
       "      <td>1.000000</td>\n",
       "      <td>0.835753</td>\n",
       "      <td>0.981848</td>\n",
       "      <td>0.462768</td>\n",
       "    </tr>\n",
       "    <tr>\n",
       "      <th>income</th>\n",
       "      <td>0.835753</td>\n",
       "      <td>1.000000</td>\n",
       "      <td>0.859812</td>\n",
       "      <td>0.864154</td>\n",
       "    </tr>\n",
       "    <tr>\n",
       "      <th>expense</th>\n",
       "      <td>0.981848</td>\n",
       "      <td>0.859812</td>\n",
       "      <td>1.000000</td>\n",
       "      <td>0.486056</td>\n",
       "    </tr>\n",
       "    <tr>\n",
       "      <th>profit</th>\n",
       "      <td>0.462768</td>\n",
       "      <td>0.864154</td>\n",
       "      <td>0.486056</td>\n",
       "      <td>1.000000</td>\n",
       "    </tr>\n",
       "  </tbody>\n",
       "</table>\n",
       "</div>"
      ],
      "text/plain": [
       "             km_traveled    income   expense    profit\n",
       "km_traveled     1.000000  0.835753  0.981848  0.462768\n",
       "income          0.835753  1.000000  0.859812  0.864154\n",
       "expense         0.981848  0.859812  1.000000  0.486056\n",
       "profit          0.462768  0.864154  0.486056  1.000000"
      ]
     },
     "execution_count": 70,
     "metadata": {},
     "output_type": "execute_result"
    }
   ],
   "source": [
    "cab_data.corr()"
   ]
  },
  {
   "cell_type": "code",
   "execution_count": 77,
   "metadata": {},
   "outputs": [
    {
     "data": {
      "image/png": "[encoded data removed]",
      "text/plain": [
       "<Figure size 432x288 with 1 Axes>"
      ]
     },
     "metadata": {
      "needs_background": "light"
     },
     "output_type": "display_data"
    }
   ],
   "source": [
    "cab_data.plot(kind='scatter', x='km_traveled', y='profit');\n"
   ]
  },
  {
   "cell_type": "markdown",
   "metadata": {},
   "source": [
    "#### customer_data.csv"
   ]
  },
  {
   "cell_type": "code",
   "execution_count": 60,
   "metadata": {},
   "outputs": [
    {
     "data": {
      "text/html": [
       "<div>\n",
       "<style scoped>\n",
       "    .dataframe tbody tr th:only-of-type {\n",
       "        vertical-align: middle;\n",
       "    }\n",
       "\n",
       "    .dataframe tbody tr th {\n",
       "        vertical-align: top;\n",
       "    }\n",
       "\n",
       "    .dataframe thead th {\n",
       "        text-align: right;\n",
       "    }\n",
       "</style>\n",
       "<table border=\"1\" class=\"dataframe\">\n",
       "  <thead>\n",
       "    <tr style=\"text-align: right;\">\n",
       "      <th></th>\n",
       "      <th>Customer ID</th>\n",
       "      <th>Gender</th>\n",
       "      <th>Age</th>\n",
       "      <th>Income (USD/Month)</th>\n",
       "    </tr>\n",
       "  </thead>\n",
       "  <tbody>\n",
       "    <tr>\n",
       "      <th>0</th>\n",
       "      <td>29290</td>\n",
       "      <td>Male</td>\n",
       "      <td>28</td>\n",
       "      <td>10813</td>\n",
       "    </tr>\n",
       "    <tr>\n",
       "      <th>1</th>\n",
       "      <td>27703</td>\n",
       "      <td>Male</td>\n",
       "      <td>27</td>\n",
       "      <td>9237</td>\n",
       "    </tr>\n",
       "    <tr>\n",
       "      <th>2</th>\n",
       "      <td>28712</td>\n",
       "      <td>Male</td>\n",
       "      <td>53</td>\n",
       "      <td>11242</td>\n",
       "    </tr>\n",
       "    <tr>\n",
       "      <th>3</th>\n",
       "      <td>28020</td>\n",
       "      <td>Male</td>\n",
       "      <td>23</td>\n",
       "      <td>23327</td>\n",
       "    </tr>\n",
       "    <tr>\n",
       "      <th>4</th>\n",
       "      <td>27182</td>\n",
       "      <td>Male</td>\n",
       "      <td>33</td>\n",
       "      <td>8536</td>\n",
       "    </tr>\n",
       "  </tbody>\n",
       "</table>\n",
       "</div>"
      ],
      "text/plain": [
       "   Customer ID Gender  Age  Income (USD/Month)\n",
       "0        29290   Male   28               10813\n",
       "1        27703   Male   27                9237\n",
       "2        28712   Male   53               11242\n",
       "3        28020   Male   23               23327\n",
       "4        27182   Male   33                8536"
      ]
     },
     "execution_count": 60,
     "metadata": {},
     "output_type": "execute_result"
    }
   ],
   "source": [
    "customer_data.head()"
   ]
  },
  {
   "cell_type": "code",
   "execution_count": 61,
   "metadata": {},
   "outputs": [],
   "source": [
    "# fix column names for easier reference\n",
    "customer_data.rename({'Customer ID': 'customer_id', 'Gender': 'gender', 'Age': 'age', 'Income (USD/Month)': 'income'}, axis='columns', inplace=True)"
   ]
  },
  {
   "cell_type": "code",
   "execution_count": 62,
   "metadata": {},
   "outputs": [
    {
     "name": "stdout",
     "output_type": "stream",
     "text": [
      "<class 'pandas.core.frame.DataFrame'>\n",
      "RangeIndex: 49171 entries, 0 to 49170\n",
      "Data columns (total 4 columns):\n",
      " #   Column       Non-Null Count  Dtype \n",
      "---  ------       --------------  ----- \n",
      " 0   customer_id  49171 non-null  int64 \n",
      " 1   gender       49171 non-null  object\n",
      " 2   age          49171 non-null  int64 \n",
      " 3   income       49171 non-null  int64 \n",
      "dtypes: int64(3), object(1)\n",
      "memory usage: 1.5+ MB\n"
     ]
    }
   ],
   "source": [
    "customer_data.info()"
   ]
  },
  {
   "cell_type": "markdown",
   "metadata": {},
   "source": [
    "***Observations:***  \n",
    "- transaction ID should be object\n",
    "- date columns are not date type; need to be converted form excel format\n"
   ]
  },
  {
   "cell_type": "code",
   "execution_count": 63,
   "metadata": {},
   "outputs": [],
   "source": [
    "customer_data = customer_data.astype({\"customer_id\": object})"
   ]
  },
  {
   "cell_type": "code",
   "execution_count": 64,
   "metadata": {},
   "outputs": [
    {
     "data": {
      "text/plain": [
       "Male      54.019646\n",
       "Female    45.980354\n",
       "Name: gender, dtype: float64"
      ]
     },
     "execution_count": 64,
     "metadata": {},
     "output_type": "execute_result"
    }
   ],
   "source": [
    "customer_data.gender.value_counts(normalize=True)*100"
   ]
  },
  {
   "cell_type": "code",
   "execution_count": 65,
   "metadata": {},
   "outputs": [
    {
     "data": {
      "text/plain": [
       "count    49171.000000\n",
       "mean        35.363121\n",
       "std         12.599066\n",
       "min         18.000000\n",
       "25%         25.000000\n",
       "50%         33.000000\n",
       "75%         42.000000\n",
       "max         65.000000\n",
       "Name: age, dtype: float64"
      ]
     },
     "execution_count": 65,
     "metadata": {},
     "output_type": "execute_result"
    }
   ],
   "source": [
    "customer_data.age.describe()"
   ]
  },
  {
   "cell_type": "code",
   "execution_count": 66,
   "metadata": {},
   "outputs": [
    {
     "data": {
      "text/plain": [
       "<AxesSubplot:>"
      ]
     },
     "execution_count": 66,
     "metadata": {},
     "output_type": "execute_result"
    },
    {
     "data": {
      "image/png": "[encoded data removed]",
      "text/plain": [
       "<Figure size 432x288 with 1 Axes>"
      ]
     },
     "metadata": {
      "needs_background": "light"
     },
     "output_type": "display_data"
    }
   ],
   "source": [
    "customer_data.age.hist(bins=20)          "
   ]
  },
  {
   "cell_type": "code",
   "execution_count": 67,
   "metadata": {},
   "outputs": [
    {
     "data": {
      "text/plain": [
       "count    49171.000000\n",
       "mean     15015.631856\n",
       "std       8002.208253\n",
       "min       2000.000000\n",
       "25%       8289.500000\n",
       "50%      14656.000000\n",
       "75%      21035.000000\n",
       "max      35000.000000\n",
       "Name: income, dtype: float64"
      ]
     },
     "execution_count": 67,
     "metadata": {},
     "output_type": "execute_result"
    }
   ],
   "source": [
    "customer_data.income.describe()"
   ]
  },
  {
   "cell_type": "code",
   "execution_count": 68,
   "metadata": {},
   "outputs": [
    {
     "data": {
      "text/plain": [
       "<AxesSubplot:>"
      ]
     },
     "execution_count": 68,
     "metadata": {},
     "output_type": "execute_result"
    },
    {
     "data": {
      "image/png": "[encoded data removed]",
      "text/plain": [
       "<Figure size 432x288 with 1 Axes>"
      ]
     },
     "metadata": {
      "needs_background": "light"
     },
     "output_type": "display_data"
    }
   ],
   "source": [
    "customer_data.income.hist(bins=20)          "
   ]
  },
  {
   "cell_type": "code",
   "execution_count": 69,
   "metadata": {},
   "outputs": [
    {
     "data": {
      "text/html": [
       "<div>\n",
       "<style scoped>\n",
       "    .dataframe tbody tr th:only-of-type {\n",
       "        vertical-align: middle;\n",
       "    }\n",
       "\n",
       "    .dataframe tbody tr th {\n",
       "        vertical-align: top;\n",
       "    }\n",
       "\n",
       "    .dataframe thead th {\n",
       "        text-align: right;\n",
       "    }\n",
       "</style>\n",
       "<table border=\"1\" class=\"dataframe\">\n",
       "  <thead>\n",
       "    <tr style=\"text-align: right;\">\n",
       "      <th></th>\n",
       "      <th>age</th>\n",
       "      <th>income</th>\n",
       "    </tr>\n",
       "  </thead>\n",
       "  <tbody>\n",
       "    <tr>\n",
       "      <th>age</th>\n",
       "      <td>1.000000</td>\n",
       "      <td>0.000156</td>\n",
       "    </tr>\n",
       "    <tr>\n",
       "      <th>income</th>\n",
       "      <td>0.000156</td>\n",
       "      <td>1.000000</td>\n",
       "    </tr>\n",
       "  </tbody>\n",
       "</table>\n",
       "</div>"
      ],
      "text/plain": [
       "             age    income\n",
       "age     1.000000  0.000156\n",
       "income  0.000156  1.000000"
      ]
     },
     "execution_count": 69,
     "metadata": {},
     "output_type": "execute_result"
    },
    {
     "data": {
      "image/png": "[encoded data removed]",
      "text/plain": [
       "<Figure size 432x288 with 1 Axes>"
      ]
     },
     "metadata": {
      "needs_background": "light"
     },
     "output_type": "display_data"
    }
   ],
   "source": [
    "customer_data.plot(kind='scatter', x='age', y='income')\n",
    "customer_data.corr()"
   ]
  }
 ],
 "metadata": {
  "kernelspec": {
   "display_name": "Python 3.9.13 64-bit (microsoft store)",
   "language": "python",
   "name": "python3"
  },
  "language_info": {
   "codemirror_mode": {
    "name": "ipython",
    "version": 3
   },
   "file_extension": ".py",
   "mimetype": "text/x-python",
   "name": "python",
   "nbconvert_exporter": "python",
   "pygments_lexer": "ipython3",
   "version": "3.9.13"
  },
  "orig_nbformat": 4,
  "vscode": {
   "interpreter": {
    "hash": "c6b4222e535703a1931872bc74813693be38bf05b66176937661c9390e20f284"
   }
  }
 },
 "nbformat": 4,
 "nbformat_minor": 2
}
