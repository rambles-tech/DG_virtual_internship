{
 "cells": [
  {
   "cell_type": "markdown",
   "metadata": {},
   "source": [
    "***Problem Statement***: One of the challenge for all Pharmaceutical companies is to understand the persistency of drug as per the physician prescription. To solve this problem ABC pharma company approached an analytics company to automate this process of identification.\n",
    "\n",
    "***ML Problem***: With an objective to gather insights on the factors that are impacting the persistency, build a classification for the given dataset.\n",
    "\n",
    "***Target Variable***: `persistency_flag`  \n",
    "\n",
    "***Task***:\n",
    "\n",
    "- Problem understanding   \n",
    "- Data Understanding  \n",
    "- Data Cleaning and Feature engineering  \n",
    "- Model Development  \n",
    "- Model Selection  \n",
    "- Model Evaluation  \n",
    "- Report the accuracy, precision and recall of both the class of target variable  \n",
    "- Report ROC-AUC as well  \n",
    "- Deploy the model  \n",
    "- Explain the challenges and model selection  "
   ]
  },
  {
   "cell_type": "markdown",
   "metadata": {},
   "source": [
    "## Feature Description"
   ]
  },
  {
   "cell_type": "markdown",
   "metadata": {},
   "source": [
    "| Bucket                   | Variable                            | Variable Description                                                                                                                                                                                                                                                                         |\n",
    "|--------------------------|-------------------------------------|----------------------------------------------------------------------------------------------------------------------------------------------------------------------------------------------------------------------------------------------------------------------------------------------|\n",
    "| Unique Row Id            | Patient ID                          | Unique ID of each patient                                                                                                                                                                                                                                                                    |\n",
    "| Target Variable          | Persistency_Flag                    | Flag indicating if a patient was persistent or not                                                                                                                                                                                                                                           |\n",
    "| Demographics             | Age                                 | Age of the patient during their therapy                                                                                                                                                                                                                                                      |\n",
    "|                          | Race                                | Race of the patient from the patient table                                                                                                                                                                                                                                                   |\n",
    "|                          | Region                              | Region of the patient from the patient table                                                                                                                                                                                                                                                 |\n",
    "|                          | Ethnicity                           | Ethnicity of the patient from the patient table                                                                                                                                                                                                                                              |\n",
    "|                          | Gender                              | Gender of the patient from the patient table                                                                                                                                                                                                                                                 |\n",
    "|                          | IDN Indicator                       | Flag indicating patients mapped to IDN                                                                                                                                                                                                                                                       |\n",
    "| Provider Attributes      | NTM - Physician Specialty           | Specialty of the HCP that prescribed the NTM Rx                                                                                                                                                                                                                                              |\n",
    "| Clinical Factors         | NTM - T-Score                       | T Score of the patient at the time of the NTM Rx (within 2 years prior from rxdate)                                                                                                                                                                                                          |\n",
    "|                          | Change in T Score                   | Change in Tscore before starting with any therapy and after receiving therapy  (Worsened, Remained Same, Improved, Unknown)                                                                                                                                                                  |\n",
    "|                          | NTM - Risk Segment                  | Risk Segment of the patient at the time of the NTM Rx (within 2 years days prior from rxdate)                                                                                                                                                                                                |\n",
    "|                          | Change in Risk Segment              | Change in Risk Segment before starting with any therapy and after receiving therapy (Worsened, Remained Same, Improved, Unknown)                                                                                                                                                             |\n",
    "|                          | NTM - Multiple Risk Factors         | Flag indicating if  patient falls under multiple risk category (having more than 1 risk) at the time of the NTM Rx (within 365 days prior from rxdate)                                                                                                                                       |\n",
    "|                          | NTM - Dexa Scan Frequency           | Number of DEXA scans taken prior to the first NTM Rx date (within 365 days prior from rxdate)                                                                                                                                                                                                |\n",
    "|                          | NTM - Dexa Scan Recency             | Flag indicating the presence of Dexa Scan before the NTM Rx (within 2 years prior from rxdate or between their first Rx and Switched Rx; whichever is smaller and applicable)                                                                                                                |\n",
    "|                          | Dexa During Therapy                 | Flag indicating if the patient had a Dexa Scan during their first continuous therapy                                                                                                                                                                                                         |\n",
    "|                          | NTM - Fragility Fracture Recency    | Flag indicating if the patient had a recent fragility fracture (within 365 days prior from rxdate)                                                                                                                                                                                           |\n",
    "|                          | Fragility Fracture During Therapy   | Flag indicating if the patient had fragility fracture  during their first continuous therapy                                                                                                                                                                                                 |\n",
    "|                          | NTM - Glucocorticoid Recency        | Flag indicating usage of Glucocorticoids (>=7.5mg strength) in the one year look-back from the first NTM Rx                                                                                                                                                                                  |\n",
    "|                          | Glucocorticoid Usage During Therapy | Flag indicating if the patient had a Glucocorticoid usage during the first continuous therapy                                                                                                                                                                                                |\n",
    "| Disease/Treatment Factor | NTM - Injectable Experience         | Flag indicating any injectable drug usage in the recent 12 months before the NTM OP Rx                                                                                                                                                                                                       |\n",
    "|                          | NTM - Risk Factors                  | Risk Factors that the patient is falling into. For chronic Risk Factors complete lookback to be applied and for non-chronic Risk Factors, one year lookback from the date of first OP Rx                                                                                                     |\n",
    "|                          | NTM - Comorbidity                   | Comorbidities are divided into two main categories - Acute and chronic, based on the ICD codes. For chronic disease we are taking complete look back from the first Rx date of NTM therapy and for acute diseases, time period  before the NTM OP Rx with one year lookback has been applied |\n",
    "|                          | NTM - Concomitancy                  | Concomitant drugs recorded prior to starting with a therapy(within 365 days prior from first rxdate)                                                                                                                                                                                         |\n",
    "|                          | Adherence                           | Adherence for the therapies                                                                                                                                                                                                                                                                  |"
   ]
  },
  {
   "cell_type": "markdown",
   "metadata": {},
   "source": [
    "## EDA"
   ]
  },
  {
   "cell_type": "code",
   "execution_count": 1,
   "metadata": {},
   "outputs": [],
   "source": [
    "import matplotlib.pyplot as plt\n",
    "import numpy as np\n",
    "import pandas as pd\n",
    "import seaborn as sns\n",
    "import scipy\n",
    "import sklearn\n",
    "\n",
    "from sklearn.cluster import KMeans\n",
    "\n",
    "# Import PCA\n",
    "from sklearn.decomposition import PCA\n",
    "from scipy.stats import pearsonr\n",
    "\n",
    "from sklearn.preprocessing import StandardScaler\n",
    "from sklearn.pipeline import make_pipeline\n"
   ]
  },
  {
   "cell_type": "code",
   "execution_count": 2,
   "metadata": {},
   "outputs": [],
   "source": [
    "# bring in cleaned dataset\n",
    "df = pd.read_csv('data/data.csv', index_col='ptid')"
   ]
  },
  {
   "cell_type": "code",
   "execution_count": 3,
   "metadata": {},
   "outputs": [
    {
     "data": {
      "text/html": [
       "<div>\n",
       "<style scoped>\n",
       "    .dataframe tbody tr th:only-of-type {\n",
       "        vertical-align: middle;\n",
       "    }\n",
       "\n",
       "    .dataframe tbody tr th {\n",
       "        vertical-align: top;\n",
       "    }\n",
       "\n",
       "    .dataframe thead th {\n",
       "        text-align: right;\n",
       "    }\n",
       "</style>\n",
       "<table border=\"1\" class=\"dataframe\">\n",
       "  <thead>\n",
       "    <tr style=\"text-align: right;\">\n",
       "      <th></th>\n",
       "      <th>persistency_flag</th>\n",
       "      <th>gender_male</th>\n",
       "      <th>gluco_record_prior_ntm</th>\n",
       "      <th>gluco_record_during_rx</th>\n",
       "      <th>dexa_freq_during_rx</th>\n",
       "      <th>dexa_during_rx</th>\n",
       "      <th>frag_frac_prior_ntm</th>\n",
       "      <th>frag_frac_during_rx</th>\n",
       "      <th>idn_indicator</th>\n",
       "      <th>injectable_experience_during_rx</th>\n",
       "      <th>...</th>\n",
       "      <th>risk_segment_prior_ntm_vlr_lr</th>\n",
       "      <th>tscore_bucket_prior_ntm_&gt;-2.5</th>\n",
       "      <th>risk_segment_during_rx_vlr_lr</th>\n",
       "      <th>risk_segment_during_rx_no_t_risk_during_rx</th>\n",
       "      <th>tscore_bucket_during_rx_&gt;-2.5</th>\n",
       "      <th>tscore_bucket_during_rx_no_t_risk_during_rx</th>\n",
       "      <th>change_t_score_no change</th>\n",
       "      <th>change_t_score_worsened</th>\n",
       "      <th>change_t_score_no_t_risk_during_rx</th>\n",
       "      <th>adherent_flag_non-adherent</th>\n",
       "    </tr>\n",
       "    <tr>\n",
       "      <th>ptid</th>\n",
       "      <th></th>\n",
       "      <th></th>\n",
       "      <th></th>\n",
       "      <th></th>\n",
       "      <th></th>\n",
       "      <th></th>\n",
       "      <th></th>\n",
       "      <th></th>\n",
       "      <th></th>\n",
       "      <th></th>\n",
       "      <th></th>\n",
       "      <th></th>\n",
       "      <th></th>\n",
       "      <th></th>\n",
       "      <th></th>\n",
       "      <th></th>\n",
       "      <th></th>\n",
       "      <th></th>\n",
       "      <th></th>\n",
       "      <th></th>\n",
       "      <th></th>\n",
       "    </tr>\n",
       "  </thead>\n",
       "  <tbody>\n",
       "    <tr>\n",
       "      <th>P1</th>\n",
       "      <td>1</td>\n",
       "      <td>1</td>\n",
       "      <td>0</td>\n",
       "      <td>0</td>\n",
       "      <td>0</td>\n",
       "      <td>0</td>\n",
       "      <td>0</td>\n",
       "      <td>0</td>\n",
       "      <td>0</td>\n",
       "      <td>1</td>\n",
       "      <td>...</td>\n",
       "      <td>1</td>\n",
       "      <td>1</td>\n",
       "      <td>1</td>\n",
       "      <td>0</td>\n",
       "      <td>0</td>\n",
       "      <td>0</td>\n",
       "      <td>1</td>\n",
       "      <td>0</td>\n",
       "      <td>0</td>\n",
       "      <td>0</td>\n",
       "    </tr>\n",
       "    <tr>\n",
       "      <th>P2</th>\n",
       "      <td>0</td>\n",
       "      <td>1</td>\n",
       "      <td>0</td>\n",
       "      <td>0</td>\n",
       "      <td>0</td>\n",
       "      <td>0</td>\n",
       "      <td>0</td>\n",
       "      <td>0</td>\n",
       "      <td>0</td>\n",
       "      <td>1</td>\n",
       "      <td>...</td>\n",
       "      <td>1</td>\n",
       "      <td>1</td>\n",
       "      <td>0</td>\n",
       "      <td>1</td>\n",
       "      <td>0</td>\n",
       "      <td>1</td>\n",
       "      <td>0</td>\n",
       "      <td>0</td>\n",
       "      <td>1</td>\n",
       "      <td>0</td>\n",
       "    </tr>\n",
       "    <tr>\n",
       "      <th>P4</th>\n",
       "      <td>0</td>\n",
       "      <td>0</td>\n",
       "      <td>0</td>\n",
       "      <td>1</td>\n",
       "      <td>0</td>\n",
       "      <td>0</td>\n",
       "      <td>0</td>\n",
       "      <td>0</td>\n",
       "      <td>0</td>\n",
       "      <td>1</td>\n",
       "      <td>...</td>\n",
       "      <td>0</td>\n",
       "      <td>1</td>\n",
       "      <td>0</td>\n",
       "      <td>0</td>\n",
       "      <td>0</td>\n",
       "      <td>0</td>\n",
       "      <td>1</td>\n",
       "      <td>0</td>\n",
       "      <td>0</td>\n",
       "      <td>0</td>\n",
       "    </tr>\n",
       "    <tr>\n",
       "      <th>P5</th>\n",
       "      <td>0</td>\n",
       "      <td>0</td>\n",
       "      <td>1</td>\n",
       "      <td>1</td>\n",
       "      <td>0</td>\n",
       "      <td>0</td>\n",
       "      <td>0</td>\n",
       "      <td>0</td>\n",
       "      <td>0</td>\n",
       "      <td>1</td>\n",
       "      <td>...</td>\n",
       "      <td>0</td>\n",
       "      <td>0</td>\n",
       "      <td>0</td>\n",
       "      <td>1</td>\n",
       "      <td>0</td>\n",
       "      <td>1</td>\n",
       "      <td>0</td>\n",
       "      <td>0</td>\n",
       "      <td>1</td>\n",
       "      <td>0</td>\n",
       "    </tr>\n",
       "    <tr>\n",
       "      <th>P6</th>\n",
       "      <td>0</td>\n",
       "      <td>0</td>\n",
       "      <td>0</td>\n",
       "      <td>0</td>\n",
       "      <td>0</td>\n",
       "      <td>0</td>\n",
       "      <td>0</td>\n",
       "      <td>0</td>\n",
       "      <td>0</td>\n",
       "      <td>0</td>\n",
       "      <td>...</td>\n",
       "      <td>0</td>\n",
       "      <td>0</td>\n",
       "      <td>0</td>\n",
       "      <td>1</td>\n",
       "      <td>0</td>\n",
       "      <td>1</td>\n",
       "      <td>0</td>\n",
       "      <td>0</td>\n",
       "      <td>1</td>\n",
       "      <td>0</td>\n",
       "    </tr>\n",
       "  </tbody>\n",
       "</table>\n",
       "<p>5 rows × 107 columns</p>\n",
       "</div>"
      ],
      "text/plain": [
       "      persistency_flag  gender_male  gluco_record_prior_ntm  \\\n",
       "ptid                                                          \n",
       "P1                   1            1                       0   \n",
       "P2                   0            1                       0   \n",
       "P4                   0            0                       0   \n",
       "P5                   0            0                       1   \n",
       "P6                   0            0                       0   \n",
       "\n",
       "      gluco_record_during_rx  dexa_freq_during_rx  dexa_during_rx  \\\n",
       "ptid                                                                \n",
       "P1                         0                    0               0   \n",
       "P2                         0                    0               0   \n",
       "P4                         1                    0               0   \n",
       "P5                         1                    0               0   \n",
       "P6                         0                    0               0   \n",
       "\n",
       "      frag_frac_prior_ntm  frag_frac_during_rx  idn_indicator  \\\n",
       "ptid                                                            \n",
       "P1                      0                    0              0   \n",
       "P2                      0                    0              0   \n",
       "P4                      0                    0              0   \n",
       "P5                      0                    0              0   \n",
       "P6                      0                    0              0   \n",
       "\n",
       "      injectable_experience_during_rx  ...  risk_segment_prior_ntm_vlr_lr  \\\n",
       "ptid                                   ...                                  \n",
       "P1                                  1  ...                              1   \n",
       "P2                                  1  ...                              1   \n",
       "P4                                  1  ...                              0   \n",
       "P5                                  1  ...                              0   \n",
       "P6                                  0  ...                              0   \n",
       "\n",
       "      tscore_bucket_prior_ntm_>-2.5  risk_segment_during_rx_vlr_lr  \\\n",
       "ptid                                                                 \n",
       "P1                                1                              1   \n",
       "P2                                1                              0   \n",
       "P4                                1                              0   \n",
       "P5                                0                              0   \n",
       "P6                                0                              0   \n",
       "\n",
       "      risk_segment_during_rx_no_t_risk_during_rx  \\\n",
       "ptid                                               \n",
       "P1                                             0   \n",
       "P2                                             1   \n",
       "P4                                             0   \n",
       "P5                                             1   \n",
       "P6                                             1   \n",
       "\n",
       "      tscore_bucket_during_rx_>-2.5  \\\n",
       "ptid                                  \n",
       "P1                                0   \n",
       "P2                                0   \n",
       "P4                                0   \n",
       "P5                                0   \n",
       "P6                                0   \n",
       "\n",
       "      tscore_bucket_during_rx_no_t_risk_during_rx  change_t_score_no change  \\\n",
       "ptid                                                                          \n",
       "P1                                              0                         1   \n",
       "P2                                              1                         0   \n",
       "P4                                              0                         1   \n",
       "P5                                              1                         0   \n",
       "P6                                              1                         0   \n",
       "\n",
       "      change_t_score_worsened  change_t_score_no_t_risk_during_rx  \\\n",
       "ptid                                                                \n",
       "P1                          0                                   0   \n",
       "P2                          0                                   1   \n",
       "P4                          0                                   0   \n",
       "P5                          0                                   1   \n",
       "P6                          0                                   1   \n",
       "\n",
       "      adherent_flag_non-adherent  \n",
       "ptid                              \n",
       "P1                             0  \n",
       "P2                             0  \n",
       "P4                             0  \n",
       "P5                             0  \n",
       "P6                             0  \n",
       "\n",
       "[5 rows x 107 columns]"
      ]
     },
     "execution_count": 3,
     "metadata": {},
     "output_type": "execute_result"
    }
   ],
   "source": [
    "df.head()"
   ]
  },
  {
   "cell_type": "markdown",
   "metadata": {},
   "source": [
    "Precision vs False Positive rate is used for ROC/AUC when there is a class imbalance"
   ]
  },
  {
   "cell_type": "code",
   "execution_count": 4,
   "metadata": {},
   "outputs": [
    {
     "data": {
      "text/plain": [
       "persistency_flag                               int64\n",
       "gender_male                                    int64\n",
       "gluco_record_prior_ntm                         int64\n",
       "gluco_record_during_rx                         int64\n",
       "dexa_freq_during_rx                            int64\n",
       "                                               ...  \n",
       "tscore_bucket_during_rx_no_t_risk_during_rx    int64\n",
       "change_t_score_no change                       int64\n",
       "change_t_score_worsened                        int64\n",
       "change_t_score_no_t_risk_during_rx             int64\n",
       "adherent_flag_non-adherent                     int64\n",
       "Length: 107, dtype: object"
      ]
     },
     "execution_count": 4,
     "metadata": {},
     "output_type": "execute_result"
    }
   ],
   "source": [
    "df.dtypes"
   ]
  },
  {
   "cell_type": "code",
   "execution_count": 5,
   "metadata": {},
   "outputs": [],
   "source": [
    "X = df.drop('persistency_flag', axis = 1)\n",
    "y = df[['persistency_flag']]"
   ]
  },
  {
   "cell_type": "code",
   "execution_count": 6,
   "metadata": {},
   "outputs": [],
   "source": [
    "ks = range(1, 6)\n",
    "inertias = []\n",
    "\n",
    "for k in ks:\n",
    "    # Create a KMeans model with 3 clusters: model\n",
    "    model = KMeans(n_clusters=k, n_init='auto')\n",
    "\n",
    "    # Use fit_predict to fit model and obtain cluster labels: \n",
    "    model.fit_predict(X)\n",
    "\n",
    "    # Create a DataFrame with clusters and varieties as columns: df\n",
    "    #preds = pd.DataFrame({'Prediction': labels, 'Actual': y['persistency_flag']})\n",
    "\n",
    "    inertias.append(model.inertia_)\n",
    "\n",
    "    # Create crosstab: ct\n",
    "    #ct = pd.crosstab(preds['Prediction'], preds['Actual'])\n",
    "    #print(ct)"
   ]
  },
  {
   "cell_type": "code",
   "execution_count": 7,
   "metadata": {},
   "outputs": [
    {
     "data": {
      "image/png": "[encoded data removed]",
      "text/plain": [
       "<Figure size 640x480 with 1 Axes>"
      ]
     },
     "metadata": {},
     "output_type": "display_data"
    }
   ],
   "source": [
    "# Plot ks vs inertias\n",
    "plt.plot(ks, inertias, '-o')\n",
    "plt.xlabel('number of clusters, k')\n",
    "plt.ylabel('inertia')\n",
    "plt.xticks(ks)\n",
    "plt.show()\n"
   ]
  },
  {
   "attachments": {},
   "cell_type": "markdown",
   "metadata": {},
   "source": [
    "PCA"
   ]
  },
  {
   "cell_type": "code",
   "execution_count": 8,
   "metadata": {},
   "outputs": [
    {
     "data": {
      "image/png": "[encoded data removed]",
      "text/plain": [
       "<Figure size 640x480 with 1 Axes>"
      ]
     },
     "metadata": {},
     "output_type": "display_data"
    },
    {
     "name": "stdout",
     "output_type": "stream",
     "text": [
      "2.0252861296232218e-16\n"
     ]
    }
   ],
   "source": [
    "# Create PCA instance: model\n",
    "model = PCA()\n",
    "\n",
    "# Apply the fit_transform method of model to grains: pca_features\n",
    "pca_features = model.fit_transform(X)\n",
    "\n",
    "# Assign 0th column of pca_features: xs\n",
    "xs = pca_features[:,0]\n",
    "\n",
    "# Assign 1st column of pca_features: ys\n",
    "ys = pca_features[:,1]\n",
    "\n",
    "# Scatter plot xs vs ys\n",
    "plt.scatter(xs, ys)\n",
    "plt.axis('equal')\n",
    "plt.show()\n",
    "\n",
    "# Calculate the Pearson correlation of xs and ys\n",
    "correlation, pvalue = pearsonr(xs, ys)\n",
    "\n",
    "# Display the correlation\n",
    "print(correlation)"
   ]
  },
  {
   "cell_type": "code",
   "execution_count": 9,
   "metadata": {},
   "outputs": [
    {
     "data": {
      "text/plain": [
       "array([[-3.00818958e+00, -7.78308646e-01, -1.77787501e+00, ...,\n",
       "         7.07177545e-16,  3.24696903e-16, -6.17849507e-17],\n",
       "       [-3.06859789e+00, -2.23523428e+00,  1.23607786e-01, ...,\n",
       "         2.36062572e-15, -2.28728080e-16, -5.82862083e-16],\n",
       "       [-2.99153336e+00,  4.63415238e-01, -7.10595185e-01, ...,\n",
       "        -2.28418099e-15,  3.24295634e-16, -1.49341220e-15],\n",
       "       ...,\n",
       "       [ 4.00503827e+00,  4.93490348e-01, -6.34602469e-01, ...,\n",
       "        -7.44775815e-17, -9.87245923e-17,  1.26324544e-17],\n",
       "       [-3.06017001e+00, -1.80906848e+00,  2.43475406e-01, ...,\n",
       "         2.13043714e-16, -2.07350198e-16,  1.51116782e-16],\n",
       "       [-3.07027457e+00, -7.55671502e-01,  9.91849187e-01, ...,\n",
       "         3.43883950e-17,  1.31996259e-16,  1.61395389e-16]])"
      ]
     },
     "execution_count": 9,
     "metadata": {},
     "output_type": "execute_result"
    }
   ],
   "source": [
    "pca_features"
   ]
  },
  {
   "cell_type": "code",
   "execution_count": 10,
   "metadata": {},
   "outputs": [
    {
     "data": {
      "image/png": "[encoded data removed]",
      "text/plain": [
       "<Figure size 640x480 with 1 Axes>"
      ]
     },
     "metadata": {},
     "output_type": "display_data"
    }
   ],
   "source": [
    "# Create scaler: scaler\n",
    "scaler = StandardScaler()\n",
    "\n",
    "# Create a PCA instance: pca\n",
    "pca = PCA()\n",
    "\n",
    "# Create pipeline: pipeline\n",
    "pipeline = make_pipeline(scaler, pca)\n",
    "\n",
    "# Fit the pipeline to 'samples'\n",
    "pipeline.fit(X)\n",
    "\n",
    "# Plot the explained variances\n",
    "features = range(pca.n_components_)\n",
    "plt.bar(features, pca.explained_variance_)\n",
    "plt.xlabel('PCA feature')\n",
    "plt.ylabel('variance')\n",
    "plt.xticks(features)\n",
    "plt.show()\n"
   ]
  }
 ],
 "metadata": {
  "kernelspec": {
   "display_name": "Python 3 (ipykernel)",
   "language": "python",
   "name": "python3"
  },
  "language_info": {
   "codemirror_mode": {
    "name": "ipython",
    "version": 3
   },
   "file_extension": ".py",
   "mimetype": "text/x-python",
   "name": "python",
   "nbconvert_exporter": "python",
   "pygments_lexer": "ipython3",
   "version": "3.11.1"
  },
  "vscode": {
   "interpreter": {
    "hash": "afe6c77cb2afc7cc844176a99f479786d5e509189aaa837c0b8d5303f4b10d79"
   }
  }
 },
 "nbformat": 4,
 "nbformat_minor": 2
}
