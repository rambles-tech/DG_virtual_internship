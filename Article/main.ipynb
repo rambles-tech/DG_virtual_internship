{
 "cells": [
  {
   "cell_type": "code",
   "execution_count": 3,
   "metadata": {},
   "outputs": [],
   "source": [
    "import requests\n",
    "from bs4 import BeautifulSoup\n",
    "from collections import Counter"
   ]
  },
  {
   "cell_type": "code",
   "execution_count": 5,
   "metadata": {},
   "outputs": [],
   "source": [
    "# Define the Wikipedia page to scrape\n",
    "url = 'https://en.wikipedia.org/wiki/The_100:_A_Ranking_of_the_Most_Influential_Persons_in_History'"
   ]
  },
  {
   "cell_type": "code",
   "execution_count": 6,
   "metadata": {},
   "outputs": [],
   "source": [
    "# Use requests to get the page content\n",
    "response = requests.get(url)\n",
    "html = response.text\n",
    "\n",
    "# Create a BeautifulSoup object to parse the HTML\n",
    "soup = BeautifulSoup(html, 'html.parser')\n",
    "\n",
    "# Find all of the table rows in the page\n",
    "rows = soup.find_all('tr')"
   ]
  },
  {
   "cell_type": "code",
   "execution_count": 7,
   "metadata": {},
   "outputs": [
    {
     "data": {
      "text/plain": [
       "[<tr><td class=\"infobox-image\" colspan=\"2\"><a class=\"image\" href=\"/wiki/File:Covor_of_book_(The_100_A_Ranking_of_the_Most_Influential_Persons_in_History).jpg\"><img alt=\"Covor of book (The 100 A Ranking of the Most Influential Persons in History).jpg\" data-file-height=\"475\" data-file-width=\"313\" decoding=\"async\" height=\"334\" src=\"//upload.wikimedia.org/wikipedia/commons/thumb/8/8b/Covor_of_book_%28The_100_A_Ranking_of_the_Most_Influential_Persons_in_History%29.jpg/220px-Covor_of_book_%28The_100_A_Ranking_of_the_Most_Influential_Persons_in_History%29.jpg\" srcset=\"//upload.wikimedia.org/wikipedia/commons/8/8b/Covor_of_book_%28The_100_A_Ranking_of_the_Most_Influential_Persons_in_History%29.jpg 1.5x\" width=\"220\"/></a><div class=\"infobox-caption\">The cover of the 1992 edition.</div></td></tr>,\n",
       " <tr><th class=\"infobox-label\" scope=\"row\">Author</th><td class=\"infobox-data\"><a href=\"/wiki/Michael_H._Hart\" title=\"Michael H. Hart\">Michael H. Hart</a></td></tr>,\n",
       " <tr><th class=\"infobox-label\" scope=\"row\">Country</th><td class=\"infobox-data\">United States</td></tr>,\n",
       " <tr><th class=\"infobox-label\" scope=\"row\">Language</th><td class=\"infobox-data\">English</td></tr>,\n",
       " <tr><th class=\"infobox-label\" scope=\"row\">Series</th><td class=\"infobox-data\"><div><ul><li>1st Edition <small>(1978)</small></li><li>2nd Edition <small>(1992)</small></li></ul></div></td></tr>,\n",
       " <tr><th class=\"infobox-label\" scope=\"row\">Subject</th><td class=\"infobox-data\"><style data-mw-deduplicate=\"TemplateStyles:r1129693374\">.mw-parser-output .hlist dl,.mw-parser-output .hlist ol,.mw-parser-output .hlist ul{margin:0;padding:0}.mw-parser-output .hlist dd,.mw-parser-output .hlist dt,.mw-parser-output .hlist li{margin:0;display:inline}.mw-parser-output .hlist.inline,.mw-parser-output .hlist.inline dl,.mw-parser-output .hlist.inline ol,.mw-parser-output .hlist.inline ul,.mw-parser-output .hlist dl dl,.mw-parser-output .hlist dl ol,.mw-parser-output .hlist dl ul,.mw-parser-output .hlist ol dl,.mw-parser-output .hlist ol ol,.mw-parser-output .hlist ol ul,.mw-parser-output .hlist ul dl,.mw-parser-output .hlist ul ol,.mw-parser-output .hlist ul ul{display:inline}.mw-parser-output .hlist .mw-empty-li{display:none}.mw-parser-output .hlist dt::after{content:\": \"}.mw-parser-output .hlist dd::after,.mw-parser-output .hlist li::after{content:\" · \";font-weight:bold}.mw-parser-output .hlist dd:last-child::after,.mw-parser-output .hlist dt:last-child::after,.mw-parser-output .hlist li:last-child::after{content:none}.mw-parser-output .hlist dd dd:first-child::before,.mw-parser-output .hlist dd dt:first-child::before,.mw-parser-output .hlist dd li:first-child::before,.mw-parser-output .hlist dt dd:first-child::before,.mw-parser-output .hlist dt dt:first-child::before,.mw-parser-output .hlist dt li:first-child::before,.mw-parser-output .hlist li dd:first-child::before,.mw-parser-output .hlist li dt:first-child::before,.mw-parser-output .hlist li li:first-child::before{content:\" (\";font-weight:normal}.mw-parser-output .hlist dd dd:last-child::after,.mw-parser-output .hlist dd dt:last-child::after,.mw-parser-output .hlist dd li:last-child::after,.mw-parser-output .hlist dt dd:last-child::after,.mw-parser-output .hlist dt dt:last-child::after,.mw-parser-output .hlist dt li:last-child::after,.mw-parser-output .hlist li dd:last-child::after,.mw-parser-output .hlist li dt:last-child::after,.mw-parser-output .hlist li li:last-child::after{content:\")\";font-weight:normal}.mw-parser-output .hlist ol{counter-reset:listitem}.mw-parser-output .hlist ol>li{counter-increment:listitem}.mw-parser-output .hlist ol>li::before{content:\" \"counter(listitem)\"\\a0 \"}.mw-parser-output .hlist dd ol>li:first-child::before,.mw-parser-output .hlist dt ol>li:first-child::before,.mw-parser-output .hlist li ol>li:first-child::before{content:\" (\"counter(listitem)\"\\a0 \"}</style><div class=\"hlist\"><ul><li>Ranking</li><li>Biography</li><li>History</li></ul></div></td></tr>,\n",
       " <tr><th class=\"infobox-label\" scope=\"row\">Published</th><td class=\"infobox-data\">1978 <small>(Hart Publishing company, New York)</small><sup class=\"reference\" id=\"cite_ref-Hp_1-0\"><a href=\"#cite_note-Hp-1\">[1]</a></sup><sup class=\"reference\" id=\"cite_ref-Ol_2-0\"><a href=\"#cite_note-Ol-2\">[2]</a></sup></td></tr>,\n",
       " <tr><th class=\"infobox-label\" scope=\"row\">Media type</th><td class=\"infobox-data\">Print</td></tr>,\n",
       " <tr><th class=\"infobox-label\" scope=\"row\"><a class=\"mw-redirect\" href=\"/wiki/ISBN_(identifier)\" title=\"ISBN (identifier)\">ISBN</a></th><td class=\"infobox-data\"><style data-mw-deduplicate=\"TemplateStyles:r1133582631\">.mw-parser-output cite.citation{font-style:inherit;word-wrap:break-word}.mw-parser-output .citation q{quotes:\"\\\"\"\"\\\"\"\"'\"\"'\"}.mw-parser-output .citation:target{background-color:rgba(0,127,255,0.133)}.mw-parser-output .id-lock-free a,.mw-parser-output .citation .cs1-lock-free a{background:url(\"//upload.wikimedia.org/wikipedia/commons/6/65/Lock-green.svg\")right 0.1em center/9px no-repeat}.mw-parser-output .id-lock-limited a,.mw-parser-output .id-lock-registration a,.mw-parser-output .citation .cs1-lock-limited a,.mw-parser-output .citation .cs1-lock-registration a{background:url(\"//upload.wikimedia.org/wikipedia/commons/d/d6/Lock-gray-alt-2.svg\")right 0.1em center/9px no-repeat}.mw-parser-output .id-lock-subscription a,.mw-parser-output .citation .cs1-lock-subscription a{background:url(\"//upload.wikimedia.org/wikipedia/commons/a/aa/Lock-red-alt-2.svg\")right 0.1em center/9px no-repeat}.mw-parser-output .cs1-ws-icon a{background:url(\"//upload.wikimedia.org/wikipedia/commons/4/4c/Wikisource-logo.svg\")right 0.1em center/12px no-repeat}.mw-parser-output .cs1-code{color:inherit;background:inherit;border:none;padding:inherit}.mw-parser-output .cs1-hidden-error{display:none;color:#d33}.mw-parser-output .cs1-visible-error{color:#d33}.mw-parser-output .cs1-maint{display:none;color:#3a3;margin-left:0.3em}.mw-parser-output .cs1-format{font-size:95%}.mw-parser-output .cs1-kern-left{padding-left:0.2em}.mw-parser-output .cs1-kern-right{padding-right:0.2em}.mw-parser-output .citation .mw-selflink{font-weight:inherit}</style><a href=\"/wiki/Special:BookSources/9780806513508\" title=\"Special:BookSources/9780806513508\">9780806513508</a></td></tr>,\n",
       " <tr><th class=\"infobox-label\" scope=\"row\"><a class=\"mw-redirect\" href=\"/wiki/OCLC_(identifier)\" title=\"OCLC (identifier)\"><abbr title=\"Online Computer Library Center number\">OCLC</abbr></a></th><td class=\"infobox-data\"><a class=\"external text\" href=\"https://www.worldcat.org/oclc/644066940\" rel=\"nofollow\">644066940</a></td></tr>,\n",
       " <tr style=\"height:50px\">\n",
       " <th style=\"width:2em;\">Rank\n",
       " </th>\n",
       " <th style=\"min-width:11em;\">Name\n",
       " </th>\n",
       " <th>Time frame\n",
       " </th>\n",
       " <th>Image\n",
       " </th>\n",
       " <th>Occupation\n",
       " </th></tr>,\n",
       " <tr style=\"vertical-align:middle; height:50px; text-align:left;\">\n",
       " <td style=\"padding-right:9px; text-align:right;\">1\n",
       " </td>\n",
       " <td><a href=\"/wiki/Muhammad\" title=\"Muhammad\">Muhammad</a>\n",
       " </td>\n",
       " <td>c. 570–632\n",
       " </td>\n",
       " <td><a class=\"image\" href=\"/wiki/File:Calligraphic_representation_of_Muhammad%27s_name.jpg\"><img alt=\"Calligraphic representation of Muhammad's name.jpg\" data-file-height=\"614\" data-file-width=\"589\" decoding=\"async\" height=\"73\" src=\"//upload.wikimedia.org/wikipedia/commons/thumb/e/eb/Calligraphic_representation_of_Muhammad%27s_name.jpg/70px-Calligraphic_representation_of_Muhammad%27s_name.jpg\" srcset=\"//upload.wikimedia.org/wikipedia/commons/thumb/e/eb/Calligraphic_representation_of_Muhammad%27s_name.jpg/105px-Calligraphic_representation_of_Muhammad%27s_name.jpg 1.5x, //upload.wikimedia.org/wikipedia/commons/thumb/e/eb/Calligraphic_representation_of_Muhammad%27s_name.jpg/140px-Calligraphic_representation_of_Muhammad%27s_name.jpg 2x\" width=\"70\"/></a>\n",
       " </td>\n",
       " <td>Spiritual and political Leader\n",
       " </td></tr>,\n",
       " <tr style=\"vertical-align:middle; height:50px; text-align:left;\">\n",
       " <td style=\"padding-right:9px; text-align:right;\">2\n",
       " </td>\n",
       " <td><a href=\"/wiki/Isaac_Newton\" title=\"Isaac Newton\">Isaac Newton</a>\n",
       " </td>\n",
       " <td>1643–1727\n",
       " </td>\n",
       " <td><a class=\"image\" href=\"/wiki/File:GodfreyKneller-IsaacNewton-1689.jpg\"><img alt=\"GodfreyKneller-IsaacNewton-1689.jpg\" data-file-height=\"1916\" data-file-width=\"1364\" decoding=\"async\" height=\"98\" src=\"//upload.wikimedia.org/wikipedia/commons/thumb/3/39/GodfreyKneller-IsaacNewton-1689.jpg/70px-GodfreyKneller-IsaacNewton-1689.jpg\" srcset=\"//upload.wikimedia.org/wikipedia/commons/thumb/3/39/GodfreyKneller-IsaacNewton-1689.jpg/105px-GodfreyKneller-IsaacNewton-1689.jpg 1.5x, //upload.wikimedia.org/wikipedia/commons/thumb/3/39/GodfreyKneller-IsaacNewton-1689.jpg/140px-GodfreyKneller-IsaacNewton-1689.jpg 2x\" width=\"70\"/></a>\n",
       " </td>\n",
       " <td>Scientist\n",
       " </td></tr>,\n",
       " <tr style=\"vertical-align:middle; height:50px; text-align:left;\">\n",
       " <td style=\"padding-right:9px; text-align:right;\">3\n",
       " </td>\n",
       " <td><a href=\"/wiki/Jesus\" title=\"Jesus\">Jesus</a>\n",
       " </td>\n",
       " <td>4 BC–33 AD\n",
       " </td>\n",
       " <td><a class=\"image\" href=\"/wiki/File:StJohnsAshfield_StainedGlass_GoodShepherd_Face.jpg\"><img alt=\"StJohnsAshfield StainedGlass GoodShepherd Face.jpg\" data-file-height=\"2572\" data-file-width=\"2572\" decoding=\"async\" height=\"70\" src=\"//upload.wikimedia.org/wikipedia/commons/thumb/1/1a/StJohnsAshfield_StainedGlass_GoodShepherd_Face.jpg/70px-StJohnsAshfield_StainedGlass_GoodShepherd_Face.jpg\" srcset=\"//upload.wikimedia.org/wikipedia/commons/thumb/1/1a/StJohnsAshfield_StainedGlass_GoodShepherd_Face.jpg/105px-StJohnsAshfield_StainedGlass_GoodShepherd_Face.jpg 1.5x, //upload.wikimedia.org/wikipedia/commons/thumb/1/1a/StJohnsAshfield_StainedGlass_GoodShepherd_Face.jpg/140px-StJohnsAshfield_StainedGlass_GoodShepherd_Face.jpg 2x\" width=\"70\"/></a>\n",
       " </td>\n",
       " <td>Spiritual leader\n",
       " </td></tr>,\n",
       " <tr style=\"vertical-align:middle; height:50px; text-align:left;\">\n",
       " <td style=\"padding-right:9px; text-align:right;\">4\n",
       " </td>\n",
       " <td><a class=\"mw-redirect\" href=\"/wiki/Gautama_Buddha\" title=\"Gautama Buddha\">Gautama Buddha</a>\n",
       " </td>\n",
       " <td>563–483 BC\n",
       " </td>\n",
       " <td><a class=\"image\" href=\"/wiki/File:Buddha_in_Sarnath_Museum_(Dhammajak_Mutra).jpg\"><img alt=\"Buddha in Sarnath Museum (Dhammajak Mutra).jpg\" data-file-height=\"1521\" data-file-width=\"1188\" decoding=\"async\" height=\"90\" src=\"//upload.wikimedia.org/wikipedia/commons/thumb/f/ff/Buddha_in_Sarnath_Museum_%28Dhammajak_Mutra%29.jpg/70px-Buddha_in_Sarnath_Museum_%28Dhammajak_Mutra%29.jpg\" srcset=\"//upload.wikimedia.org/wikipedia/commons/thumb/f/ff/Buddha_in_Sarnath_Museum_%28Dhammajak_Mutra%29.jpg/105px-Buddha_in_Sarnath_Museum_%28Dhammajak_Mutra%29.jpg 1.5x, //upload.wikimedia.org/wikipedia/commons/thumb/f/ff/Buddha_in_Sarnath_Museum_%28Dhammajak_Mutra%29.jpg/140px-Buddha_in_Sarnath_Museum_%28Dhammajak_Mutra%29.jpg 2x\" width=\"70\"/></a>\n",
       " </td>\n",
       " <td>Spiritual leader\n",
       " </td></tr>,\n",
       " <tr style=\"vertical-align:middle; height:50px; text-align:left;\">\n",
       " <td style=\"padding-right:9px; text-align:right;\">5\n",
       " </td>\n",
       " <td><a href=\"/wiki/Confucius\" title=\"Confucius\">Confucius</a>\n",
       " </td>\n",
       " <td>551–479 BC\n",
       " </td>\n",
       " <td><a class=\"image\" href=\"/wiki/File:Confucius_the_scholar.jpg\"><img alt=\"Confucius the scholar.jpg\" data-file-height=\"772\" data-file-width=\"531\" decoding=\"async\" height=\"102\" src=\"//upload.wikimedia.org/wikipedia/commons/thumb/9/9a/Confucius_the_scholar.jpg/70px-Confucius_the_scholar.jpg\" srcset=\"//upload.wikimedia.org/wikipedia/commons/thumb/9/9a/Confucius_the_scholar.jpg/105px-Confucius_the_scholar.jpg 1.5x, //upload.wikimedia.org/wikipedia/commons/thumb/9/9a/Confucius_the_scholar.jpg/140px-Confucius_the_scholar.jpg 2x\" width=\"70\"/></a>\n",
       " </td>\n",
       " <td>Philosopher\n",
       " </td></tr>,\n",
       " <tr style=\"vertical-align:middle; height:50px; text-align:left;\">\n",
       " <td style=\"padding-right:9px; text-align:right;\">6\n",
       " </td>\n",
       " <td><a href=\"/wiki/Paul_the_Apostle\" title=\"Paul the Apostle\">Paul the Apostle</a>\n",
       " </td>\n",
       " <td>5–67 AD\n",
       " </td>\n",
       " <td><a class=\"image\" href=\"/wiki/File:El_Greco_-_Saint_Paul_head.jpg\"><img alt=\"El Greco - Saint Paul head.jpg\" data-file-height=\"1019\" data-file-width=\"826\" decoding=\"async\" height=\"86\" src=\"//upload.wikimedia.org/wikipedia/commons/thumb/3/3b/El_Greco_-_Saint_Paul_head.jpg/70px-El_Greco_-_Saint_Paul_head.jpg\" srcset=\"//upload.wikimedia.org/wikipedia/commons/thumb/3/3b/El_Greco_-_Saint_Paul_head.jpg/105px-El_Greco_-_Saint_Paul_head.jpg 1.5x, //upload.wikimedia.org/wikipedia/commons/thumb/3/3b/El_Greco_-_Saint_Paul_head.jpg/140px-El_Greco_-_Saint_Paul_head.jpg 2x\" width=\"70\"/></a>\n",
       " </td>\n",
       " <td>Christian apostle\n",
       " </td></tr>,\n",
       " <tr style=\"vertical-align:middle; height:50px; text-align:left;\">\n",
       " <td style=\"padding-right:9px; text-align:right;\">7\n",
       " </td>\n",
       " <td><a href=\"/wiki/Cai_Lun\" title=\"Cai Lun\">Cai Lun</a>\n",
       " </td>\n",
       " <td>50–121 AD\n",
       " </td>\n",
       " <td><a class=\"image\" href=\"/wiki/File:Cai-lun.jpg\"><img alt=\"Cai-lun.jpg\" data-file-height=\"469\" data-file-width=\"375\" decoding=\"async\" height=\"88\" src=\"//upload.wikimedia.org/wikipedia/commons/thumb/b/be/Cai-lun.jpg/70px-Cai-lun.jpg\" srcset=\"//upload.wikimedia.org/wikipedia/commons/thumb/b/be/Cai-lun.jpg/105px-Cai-lun.jpg 1.5x, //upload.wikimedia.org/wikipedia/commons/thumb/b/be/Cai-lun.jpg/140px-Cai-lun.jpg 2x\" width=\"70\"/></a>\n",
       " </td>\n",
       " <td>Inventor of paper\n",
       " </td></tr>,\n",
       " <tr style=\"vertical-align:middle; height:50px; text-align:left;\">\n",
       " <td style=\"padding-right:9px; text-align:right;\">8\n",
       " </td>\n",
       " <td><a href=\"/wiki/Johannes_Gutenberg\" title=\"Johannes Gutenberg\">Johannes Gutenberg</a>\n",
       " </td>\n",
       " <td>c. 1400–1468\n",
       " </td>\n",
       " <td><a class=\"image\" href=\"/wiki/File:Gutenberg.jpg\"><img alt=\"Gutenberg.jpg\" data-file-height=\"1322\" data-file-width=\"1040\" decoding=\"async\" height=\"89\" src=\"//upload.wikimedia.org/wikipedia/commons/thumb/3/33/Gutenberg.jpg/70px-Gutenberg.jpg\" srcset=\"//upload.wikimedia.org/wikipedia/commons/thumb/3/33/Gutenberg.jpg/105px-Gutenberg.jpg 1.5x, //upload.wikimedia.org/wikipedia/commons/thumb/3/33/Gutenberg.jpg/140px-Gutenberg.jpg 2x\" width=\"70\"/></a>\n",
       " </td>\n",
       " <td>Inventor of the printing press\n",
       " </td></tr>,\n",
       " <tr style=\"vertical-align:middle; height:50px; text-align:left;\">\n",
       " <td style=\"padding-right:9px; text-align:right;\">9\n",
       " </td>\n",
       " <td><a href=\"/wiki/Christopher_Columbus\" title=\"Christopher Columbus\">Christopher Columbus</a>\n",
       " </td>\n",
       " <td>1451–1506\n",
       " </td>\n",
       " <td><a class=\"image\" href=\"/wiki/File:Christopher_Columbus.PNG\"><img alt=\"Christopher Columbus.PNG\" data-file-height=\"1928\" data-file-width=\"1603\" decoding=\"async\" height=\"84\" src=\"//upload.wikimedia.org/wikipedia/commons/thumb/5/5d/Christopher_Columbus.PNG/70px-Christopher_Columbus.PNG\" srcset=\"//upload.wikimedia.org/wikipedia/commons/thumb/5/5d/Christopher_Columbus.PNG/105px-Christopher_Columbus.PNG 1.5x, //upload.wikimedia.org/wikipedia/commons/thumb/5/5d/Christopher_Columbus.PNG/140px-Christopher_Columbus.PNG 2x\" width=\"70\"/></a>\n",
       " </td>\n",
       " <td>Explorer\n",
       " </td></tr>,\n",
       " <tr style=\"vertical-align:middle; height:50px; text-align:left;\">\n",
       " <td style=\"padding-right:9px; text-align:right;\">10\n",
       " </td>\n",
       " <td><a href=\"/wiki/Albert_Einstein\" title=\"Albert Einstein\">Albert Einstein</a>\n",
       " </td>\n",
       " <td>1879–1955\n",
       " </td>\n",
       " <td><a class=\"image\" href=\"/wiki/File:Einstein_1921_portrait2.jpg\"><img alt=\"Einstein 1921 portrait2.jpg\" data-file-height=\"2052\" data-file-width=\"1644\" decoding=\"async\" height=\"87\" src=\"//upload.wikimedia.org/wikipedia/commons/thumb/f/f5/Einstein_1921_portrait2.jpg/70px-Einstein_1921_portrait2.jpg\" srcset=\"//upload.wikimedia.org/wikipedia/commons/thumb/f/f5/Einstein_1921_portrait2.jpg/105px-Einstein_1921_portrait2.jpg 1.5x, //upload.wikimedia.org/wikipedia/commons/thumb/f/f5/Einstein_1921_portrait2.jpg/140px-Einstein_1921_portrait2.jpg 2x\" width=\"70\"/></a>\n",
       " </td>\n",
       " <td>Scientist\n",
       " </td></tr>]"
      ]
     },
     "execution_count": 7,
     "metadata": {},
     "output_type": "execute_result"
    }
   ],
   "source": [
    "rows"
   ]
  },
  {
   "cell_type": "code",
   "execution_count": 8,
   "metadata": {},
   "outputs": [],
   "source": [
    "# Initialize a list to store the middle initials\n",
    "middle_initials = []"
   ]
  },
  {
   "cell_type": "code",
   "execution_count": 9,
   "metadata": {},
   "outputs": [
    {
     "name": "stdout",
     "output_type": "stream",
     "text": [
      "c\n"
     ]
    }
   ],
   "source": [
    "# Iterate through the rows\n",
    "for row in rows:\n",
    "    # Find the first column in the row\n",
    "    col = row.find('td')\n",
    "    if col:\n",
    "        # Extract the text from the column\n",
    "        name = col.text.strip()\n",
    "        # Split the text into words\n",
    "        words = name.split()\n",
    "        # Check if the name has a middle name\n",
    "        if len(words) > 2:\n",
    "            # Extract the middle initial\n",
    "            middle_initial = words[1][0]\n",
    "            # Add the middle initial to the list\n",
    "            middle_initials.append(middle_initial)\n",
    "\n",
    "# Count the number of occurrences of each middle initial\n",
    "initial_counts = Counter(middle_initials)\n",
    "\n",
    "# Print the most common middle initial\n",
    "print(initial_counts.most_common(1)[0][0])"
   ]
  },
  {
   "cell_type": "code",
   "execution_count": null,
   "metadata": {},
   "outputs": [],
   "source": []
  }
 ],
 "metadata": {
  "kernelspec": {
   "display_name": "glacier",
   "language": "python",
   "name": "python3"
  },
  "language_info": {
   "codemirror_mode": {
    "name": "ipython",
    "version": 3
   },
   "file_extension": ".py",
   "mimetype": "text/x-python",
   "name": "python",
   "nbconvert_exporter": "python",
   "pygments_lexer": "ipython3",
   "version": "3.11.1 (v3.11.1:a7a450f84a, Dec  6 2022, 15:24:06) [Clang 13.0.0 (clang-1300.0.29.30)]"
  },
  "orig_nbformat": 4,
  "vscode": {
   "interpreter": {
    "hash": "afe6c77cb2afc7cc844176a99f479786d5e509189aaa837c0b8d5303f4b10d79"
   }
  }
 },
 "nbformat": 4,
 "nbformat_minor": 2
}
